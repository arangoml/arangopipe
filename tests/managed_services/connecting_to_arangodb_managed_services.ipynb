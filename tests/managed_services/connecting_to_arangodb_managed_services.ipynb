{
 "cells": [
  {
   "cell_type": "markdown",
   "metadata": {},
   "source": [
    "## Overview of Connecting to Managed Service ArangoDB with ArangoPipe "
   ]
  },
  {
   "cell_type": "markdown",
   "metadata": {},
   "source": [
    "Connecting to a managed database instance of ArangoDB is done using the `ArangoPipeAdmin` component. The first time you connect to a managed service database, you will need to provide the following information:\n",
    "1. The host name associated with the managed database service\n",
    "2. The web service endpoint for the managed database service (default value is apmdb)\n",
    "3. The name of the service that provisions a managed database service  (default value is createDB) \n",
    "4. The port to be used for the managed database service (default value is 8529)\n",
    "5. The connection protocol to be used for interacting with the service (http/https)\n",
    "6. Managed service databases are recycled periodically. If you wish to be be notified prior to such a recycling event associated with you database instance for the purpose of backing up your data, you can provide an email address for this purpose.\n",
    "Note: The web service end point and the name of the service that provisions a managed database service are advanced configuration parameters that you would typically not need to change.\n",
    "\n",
    "The above connection information is provided through the `ArangopipeConfig` object. Once a connection to a managed service instance is obtained by `ArangoPipe`, it is perisisted for reuse. The next time you want to connect to the last used database, simply instantiate an instance of `ArangoPipeAdmin` and obtain the saved configuration information. If you have not used your managed service instance for a while, then it may have been recycled. If you attempt to connect to a recycled database instance, you will receive an exception. You may then connect to a new `ArangoPipe` database by providing a set of connection parameters. These ideas are illustrated below"
   ]
  },
  {
   "cell_type": "markdown",
   "metadata": {},
   "source": [
    "### Initial Connection to a Managed Service ArangoPipe Database"
   ]
  },
  {
   "cell_type": "code",
   "execution_count": null,
   "metadata": {},
   "outputs": [],
   "source": [
    "from arangopipe.arangopipe_storage.arangopipe_admin_api import ArangoPipeAdmin\n",
    "from arangopipe.arangopipe_storage.arangopipe_api import ArangoPipe\n",
    "from arangopipe.arangopipe_storage.arangopipe_config import ArangoPipeConfig\n",
    "from arangopipe.arangopipe_storage.managed_service_conn_parameters import ManagedServiceConnParam\n",
    "\n",
    "config = ArangoPipeConfig()\n",
    "msc = ManagedServiceConnParam()\n",
    "conn_params = { msc.DB_SERVICE_HOST : \"localhost\", \\\n",
    "                        msc.DB_SERVICE_END_POINT : \"apmdb\",\\\n",
    "                        msc.DB_SERVICE_NAME : \"createDB\",\\\n",
    "                        msc.DB_SERVICE_PORT : 8529,\\\n",
    "                        msc.DB_CONN_PROTOCOL : 'http',\\\n",
    "                        msc.DB_NOTIFICATION_EMAIL : 'somebody@some_company.com'}\n",
    "        \n",
    "config = config.create_connection_config(conn_params)\n",
    "config = config\n",
    "admin = ArangoPipeAdmin(reuse_connection = False, config= config) # note the explicit False parameter for reuse_connection\n",
    "# note: the ap_config below is different from the config above used for connection. The one below contains the\n",
    "# db information from the provisioning activity that results from instantiating an ArangoPipeAdmin instance\n",
    "ap_config = admin.get_config()\n",
    "ap = ArangoPipe(config = ap_config)\n"
   ]
  },
  {
   "cell_type": "code",
   "execution_count": null,
   "metadata": {},
   "outputs": [],
   "source": [
    "admin.reuse_connection"
   ]
  },
  {
   "cell_type": "markdown",
   "metadata": {},
   "source": [
    "### Viewing the connection created above"
   ]
  },
  {
   "cell_type": "code",
   "execution_count": null,
   "metadata": {},
   "outputs": [],
   "source": [
    "admin.get_config().cfg"
   ]
  },
  {
   "cell_type": "markdown",
   "metadata": {},
   "source": [
    "### Reusing the Last Used Connection"
   ]
  },
  {
   "cell_type": "markdown",
   "metadata": {},
   "source": [
    "In all subsequent interactions after the intial interaction, you can reuse the managed service database you created during your first interaction by following the steps below."
   ]
  },
  {
   "cell_type": "code",
   "execution_count": null,
   "metadata": {},
   "outputs": [],
   "source": [
    "admin = ArangoPipeAdmin()  \n",
    "ap_config = admin.get_config()\n",
    "ap = ArangoPipe(config = ap_config)\n"
   ]
  },
  {
   "cell_type": "markdown",
   "metadata": {},
   "source": [
    "#### Note: When you compare the databse connection information from the initial interaction and the one obtained from executing the cell above, you will note that they are identical."
   ]
  },
  {
   "cell_type": "code",
   "execution_count": null,
   "metadata": {},
   "outputs": [],
   "source": [
    "admin.get_config().cfg"
   ]
  },
  {
   "cell_type": "code",
   "execution_count": null,
   "metadata": {},
   "outputs": [],
   "source": []
  }
 ],
 "metadata": {
  "language_info": {
   "name": "python",
   "pygments_lexer": "ipython3"
  }
 },
 "nbformat": 4,
 "nbformat_minor": 2
}
