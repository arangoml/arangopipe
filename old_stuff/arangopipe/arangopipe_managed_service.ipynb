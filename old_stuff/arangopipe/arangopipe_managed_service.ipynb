{
 "cells": [
  {
   "cell_type": "markdown",
   "metadata": {},
   "source": [
    "<a href=\"https://colab.research.google.com/github/arangoml/arangopipe/blob/master/arangopipe_managed_service.ipynb\" target=\"_parent\"><img src=\"https://colab.research.google.com/assets/colab-badge.svg\" alt=\"Open In Colab\"/></a>"
   ]
  },
  {
   "cell_type": "markdown",
   "metadata": {},
   "source": [
    "# ArangoML Pipeline Cloud\n",
    "This notebook contains the getting started guide for [ArangoML Pipeline Cloud](https://www.arangodb.com/2020/01/arangoml-pipeline-cloud-manage-machine-learning-metadata/)"
   ]
  },
  {
   "cell_type": "markdown",
   "metadata": {},
   "source": [
    "# Install Required Packages"
   ]
  },
  {
   "cell_type": "code",
   "execution_count": null,
   "metadata": {},
   "outputs": [],
   "source": [
    "!pip install python-arango\n",
    "!pip install arangopipe==0.0.5.8\n",
    "!pip install pandas PyYAML==5.1.1 sklearn2"
   ]
  },
  {
   "cell_type": "markdown",
   "metadata": {},
   "source": [
    "# "
   ]
  },
  {
   "cell_type": "markdown",
   "metadata": {},
   "source": [
    "# Overview of Connecting to ArangoML Pipeline Cloud"
   ]
  },
  {
   "cell_type": "markdown",
   "metadata": {},
   "source": [
    "Connecting to a managed database instance of ArangoDB is done using the ArangoPipeAdmin component. The first time you connect to a managed service database, you will need to provide the following information:\n",
    "\n",
    "\n",
    "1.  The host name associated with the managed database service\n",
    "2.  The web service endpoint for the managed database service (default value is apmdb)\n",
    "3.  The name of the service that provisions a managed database service (default value is createDB)\n",
    "4. The port to be used for the managed database service (default value is 8529)\n",
    "5. The connection protocol to be used for interacting with the service (http/https)\n",
    "6. Managed service databases are recycled periodically. If you wish to be be notified prior to such a recycling event associated with you database instance for the purpose of backing up your data, you can provide an email address for this purpose. Note: The web service end point and the name of the service that provisions a managed database service are advanced configuration parameters that you would typically not need to change.\n",
    "The above connection information is provided through the ArangopipeConfig object. Once a connection to a managed service instance is obtained by ArangoPipe, it is perisisted for reuse. The next time you want to connect to the last used database, simply instantiate an instance of ArangoPipeAdmin and obtain the saved configuration information. If you have not used your managed service instance for a while, then it may have been recycled. If you attempt to connect to a recycled database instance, you will receive an exception. You may then connect to a new ArangoPipe database by providing a set of connection parameters. These ideas are illustrated below"
   ]
  },
  {
   "cell_type": "markdown",
   "metadata": {},
   "source": [
    "# Initial Connection to a Managed Service ArangoPipe Database"
   ]
  },
  {
   "cell_type": "code",
   "execution_count": null,
   "metadata": {},
   "outputs": [],
   "source": [
    "from arangopipe.arangopipe_storage.arangopipe_api import ArangoPipe\n",
    "from arangopipe.arangopipe_storage.arangopipe_admin_api import ArangoPipeAdmin\n",
    "from arangopipe.arangopipe_storage.arangopipe_config import ArangoPipeConfig\n",
    "from arangopipe.arangopipe_storage.managed_service_conn_parameters import ManagedServiceConnParam\n",
    "mdb_config = ArangoPipeConfig()\n",
    "msc = ManagedServiceConnParam()\n",
    "conn_params = { msc.DB_SERVICE_HOST : \"arangoml.arangodb.cloud\", \\\n",
    "                        msc.DB_SERVICE_END_POINT : \"createDB\",\\\n",
    "                        msc.DB_SERVICE_NAME : \"createDB\",\\\n",
    "                        msc.DB_SERVICE_PORT : 8529,\n",
    "                        msc.DB_CONN_PROTOCOL : 'https'}\n",
    "        \n",
    "mdb_config = mdb_config.create_connection_config(conn_params)\n",
    "admin = ArangoPipeAdmin(reuse_connection = False, config = mdb_config)\n",
    "ap_config = admin.get_config()\n",
    "ap = ArangoPipe(config = ap_config)\n",
    "proj_info = {\"name\": \"Housing_Price_Estimation_Project\"}\n",
    "proj_reg = admin.register_project(proj_info)\n",
    "model_info = {\"name\": \"Housing Price Regression Model\",  \"type\": \"Model Development\"}\n",
    "model_reg = ap.register_model(model_info, project = \"Housing_Price_Estimation_Project\")"
   ]
  },
  {
   "cell_type": "markdown",
   "metadata": {},
   "source": [
    "# Reusing the Previous Connection"
   ]
  },
  {
   "cell_type": "markdown",
   "metadata": {},
   "source": [
    "In a subsequent session you can reuse the connection you created previously using the snippet shown below. Note that you are not providing connection information during this interaction."
   ]
  },
  {
   "cell_type": "code",
   "execution_count": null,
   "metadata": {},
   "outputs": [],
   "source": [
    "admin = ArangoPipeAdmin()  \n",
    "ap_config = admin.get_config()\n",
    "ap = ArangoPipe(config = ap_config)\n"
   ]
  },
  {
   "cell_type": "markdown",
   "metadata": {},
   "source": [
    "Look up the model you stored in the database with the previous connection"
   ]
  },
  {
   "cell_type": "code",
   "execution_count": null,
   "metadata": {},
   "outputs": [],
   "source": [
    "ap.lookup_model(\"Housing Price Regression Model\")"
   ]
  },
  {
   "cell_type": "markdown",
   "metadata": {},
   "source": [
    "### Want to learn more on how to analyze and leverage the stored metadata?\n",
    "* See how  **Arangopipe** can be used with [tensorflow](https://github.com/arangoml/arangopipe/blob/master/arangopipe/tests/TFX/tfx_metadata_integration.ipynb)\n",
    "* See how **Arangopipe** can be used with [pytorch](https://github.com/arangoml/arangopipe/tree/master/arangopipe/tests/pytorch)\n",
    "* See how **Arangopipe** can be used with [sklearn](https://github.com/arangoml/arangopipe/blob/master/arangopipe/tests/hyperopt/hyperopt_integration.ipynb)"
   ]
  }
 ],
 "metadata": {
  "language_info": {
   "name": "python",
   "pygments_lexer": "ipython3"
  }
 },
 "nbformat": 4,
 "nbformat_minor": 1
}
