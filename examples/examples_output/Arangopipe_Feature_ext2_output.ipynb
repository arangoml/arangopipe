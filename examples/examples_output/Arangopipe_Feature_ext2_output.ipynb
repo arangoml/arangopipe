{
  "nbformat": 4,
  "nbformat_minor": 0,
  "metadata": {
    "colab": {
      "name": "Arangopipe_Feature_ext2.ipynb",
      "provenance": []
    },
    "kernelspec": {
      "name": "python3",
      "display_name": "Python 3"
    }
  },
  "cells": [
    {
      "cell_type": "markdown",
      "metadata": {
        "id": "6KUhA6gqClh0"
      },
      "source": [
        "<a href=\"https://colab.research.google.com/github/arangoml/arangopipe/blob/master/examples/Arangopipe_Feature_ext2.ipynb\" target=\"_parent\"><img src=\"https://colab.research.google.com/assets/colab-badge.svg\" alt=\"Open In Colab\"/></a>"
      ]
    },
    {
      "cell_type": "code",
      "metadata": {
        "id": "tr8O0FRWClh1"
      },
      "source": [
        "%%capture\n",
        "!pip install python-arango\n",
        "!pip install arangopipe==0.0.6.9.3\n",
        "!pip install pandas PyYAML==5.1.1 sklearn2\n",
        "!pip install jsonpickle"
      ],
      "execution_count": 1,
      "outputs": []
    },
    {
      "cell_type": "markdown",
      "metadata": {
        "id": "q1otLzpQClh3"
      },
      "source": [
        "## Intro\n",
        "We use a few terms throughout this notebook that will be helpful to be aware of, and this section explains some of them. Machine learning is frequently applied to perform supervised learning. Supervised learning involves training a model to predict an entity of interest, given other entities that we think can be used to predict it. \n",
        "\n",
        "## Model Parameters\n",
        "The entity of interest is called the **target**. The entities that we use to predict it are called **predictors**. \n",
        "\n",
        "When the target can take a continuous range of values, the learning task is called **regression**. Examples of targets that could take a continuous range of values include:\n",
        "* House prices\n",
        "* Cholesterol level in a blood sample\n",
        "* Customers online shopping budget\n",
        "\n",
        "In contrast, there are applications where the target can only take one of a fixed set of values. In this case, the target is **discrete** or **categorical** in contrast to being continuous. Examples of discrete targets would be: \n",
        "* The threat level of a request that is received (intruder/benign)\n",
        "* Disease status of an individual (infected/not-infected) \n",
        "\n",
        "When the target is discrete or categorical, the learning task is called **classification**.\n",
        "We will start our machine learning series with a regression example. In [part 2 of this series](https://www.arangodb.com/2020/10/arangoml-part-2-basic-arangopipe-machine-learning-workflow/), we developed a regression model using [LASSO regression](https://en.wikipedia.org/wiki/Lasso_(statistics). \n",
        "\n",
        "## Covariate Shift\n",
        "When developing a model, we determine the model’s parameters as part of the training process. The model parameters are estimated from the data and are the coefficients associated with the regression line. \n",
        "\n",
        "However, the data in the training sample may not be representative of the data the application is receiving now; for reasons such as:\n",
        "* The data we collected initially may be subject to sampling biases. \n",
        "* We may have intentionally or unintentionally made mistakes in collecting the data.\n",
        "* Market and business conditions have changed and the pricing of the same houses is different.\n",
        "\n",
        "It is possible to account for variances between the years with your predictors, but the model becomes inaccurate if the underlying data distribution changes too much. This potential inaccuracy due to the changing or updating of data is a **covariate shift**. As you can imagine, it is crucial to make sure your model provides accurate results as you receive more data in production. That is why we will look at detecting covariate shifts in datasets throughout the rest of this notebook. \n",
        "\n",
        "## The Dataset\n",
        "We will continue with the dataset we have been using in this series, the California housing dataset. The following code block imports a random sample of 500 lines from the data and prints just a snapshot to visualize the dataset’s information. \n",
        "\n",
        "This dataset is available from the arangopipe repo and was initially made available from the UCI ML Repository. The dataset contains data for housing in California, including:\n",
        "* The house configuration & location\n",
        "* The median house values and ages\n",
        "* The general population & number of households\n",
        "* The median income for the area\n"
      ]
    },
    {
      "cell_type": "code",
      "metadata": {
        "id": "1GJ_6iIuClh4",
        "outputId": "21eafe34-c3ec-460e-ba95-c1c8c8fc3231",
        "colab": {
          "base_uri": "https://localhost:8080/",
          "height": 204
        }
      },
      "source": [
        "import pandas as pd\n",
        "import numpy as np\n",
        "data_url = \"https://raw.githubusercontent.com/arangoml/arangopipe/arangopipe_examples/examples/data/cal_housing.csv\"\n",
        "df = pd.read_csv(data_url, error_bad_lines=False)\n",
        "df = df.sample(n = 500)\n",
        "df.head()"
      ],
      "execution_count": 2,
      "outputs": [
        {
          "output_type": "execute_result",
          "data": {
            "text/html": [
              "<div>\n",
              "<style scoped>\n",
              "    .dataframe tbody tr th:only-of-type {\n",
              "        vertical-align: middle;\n",
              "    }\n",
              "\n",
              "    .dataframe tbody tr th {\n",
              "        vertical-align: top;\n",
              "    }\n",
              "\n",
              "    .dataframe thead th {\n",
              "        text-align: right;\n",
              "    }\n",
              "</style>\n",
              "<table border=\"1\" class=\"dataframe\">\n",
              "  <thead>\n",
              "    <tr style=\"text-align: right;\">\n",
              "      <th></th>\n",
              "      <th>lat</th>\n",
              "      <th>long</th>\n",
              "      <th>housingMedAge</th>\n",
              "      <th>totalRooms</th>\n",
              "      <th>totalBedrooms</th>\n",
              "      <th>population</th>\n",
              "      <th>households</th>\n",
              "      <th>medianIncome</th>\n",
              "      <th>medianHouseValue</th>\n",
              "    </tr>\n",
              "  </thead>\n",
              "  <tbody>\n",
              "    <tr>\n",
              "      <th>361</th>\n",
              "      <td>-122.12</td>\n",
              "      <td>37.75</td>\n",
              "      <td>28</td>\n",
              "      <td>794</td>\n",
              "      <td>111</td>\n",
              "      <td>329</td>\n",
              "      <td>109</td>\n",
              "      <td>7.6923</td>\n",
              "      <td>329800.0</td>\n",
              "    </tr>\n",
              "    <tr>\n",
              "      <th>18968</th>\n",
              "      <td>-122.02</td>\n",
              "      <td>38.26</td>\n",
              "      <td>20</td>\n",
              "      <td>3899</td>\n",
              "      <td>763</td>\n",
              "      <td>2198</td>\n",
              "      <td>779</td>\n",
              "      <td>3.2061</td>\n",
              "      <td>120400.0</td>\n",
              "    </tr>\n",
              "    <tr>\n",
              "      <th>3349</th>\n",
              "      <td>-120.77</td>\n",
              "      <td>40.65</td>\n",
              "      <td>11</td>\n",
              "      <td>2635</td>\n",
              "      <td>667</td>\n",
              "      <td>280</td>\n",
              "      <td>132</td>\n",
              "      <td>1.7214</td>\n",
              "      <td>118300.0</td>\n",
              "    </tr>\n",
              "    <tr>\n",
              "      <th>20524</th>\n",
              "      <td>-121.56</td>\n",
              "      <td>38.44</td>\n",
              "      <td>43</td>\n",
              "      <td>1485</td>\n",
              "      <td>270</td>\n",
              "      <td>653</td>\n",
              "      <td>251</td>\n",
              "      <td>3.0000</td>\n",
              "      <td>141700.0</td>\n",
              "    </tr>\n",
              "    <tr>\n",
              "      <th>14244</th>\n",
              "      <td>-117.10</td>\n",
              "      <td>32.70</td>\n",
              "      <td>42</td>\n",
              "      <td>2002</td>\n",
              "      <td>488</td>\n",
              "      <td>1505</td>\n",
              "      <td>464</td>\n",
              "      <td>1.5057</td>\n",
              "      <td>86300.0</td>\n",
              "    </tr>\n",
              "  </tbody>\n",
              "</table>\n",
              "</div>"
            ],
            "text/plain": [
              "          lat   long  housingMedAge  ...  households  medianIncome  medianHouseValue\n",
              "361   -122.12  37.75             28  ...         109        7.6923          329800.0\n",
              "18968 -122.02  38.26             20  ...         779        3.2061          120400.0\n",
              "3349  -120.77  40.65             11  ...         132        1.7214          118300.0\n",
              "20524 -121.56  38.44             43  ...         251        3.0000          141700.0\n",
              "14244 -117.10  32.70             42  ...         464        1.5057           86300.0\n",
              "\n",
              "[5 rows x 9 columns]"
            ]
          },
          "metadata": {
            "tags": []
          },
          "execution_count": 2
        }
      ]
    },
    {
      "cell_type": "markdown",
      "metadata": {
        "id": "r-hNvjr2Clh6"
      },
      "source": [
        "## Let's Get Started\n",
        "\n",
        "Ok, so all that is well and good, but how do we detect that the underlying dataset distribution changed? We can employ a simple technique to do that.\n",
        "\n",
        "This post will illustrate how a dataset shift can occur and how you can identify it. As discussed earlier, a dataset shift can occur due to sampling errors. For this example, we will deliberately make a sampling error when we acquire the training data used to develop the model. After model development, we receive a new batch of data. The question we will answer is:\n",
        "\n",
        "**Is the current batch of data different in a distributional sense from the one used to build the current model?**\n",
        "\n",
        "We will use machine learning to solve this problem! \n",
        "\n",
        "Here are some of the steps we will take.\n",
        "\n",
        "1. Tag the data from the batch used to build the current production model as 0. \n",
        "2. Tag the batch of data that we have received since then as 1. \n",
        "3. Develop a model to discriminate between these two labels.\n",
        "4. Evaluate the results and adjust the model if necessary. \n",
        "\n",
        "If the model we develop can discriminate too well between the two batches of data, then a covariate shift has occurred, and we need to revisit modeling. \n",
        "\n",
        "If the model cannot discriminate well between these two batches, for example, the classifier we develop produces an accuracy of about  0.5, then this classifier is not very discriminatory. It only performs as well as tossing a fair coin. If we observe such a result, then we conclude that a sufficient dataset shift has not occurred, and our current model will serve us well.\n",
        "\n",
        "We illustrate this idea with the California housing dataset. The machine learning task associated with the dataset is to predict the median house value given a set of predictors. The rest of the notebook illustrates the idea discussed above.\n"
      ]
    },
    {
      "cell_type": "markdown",
      "metadata": {
        "id": "RtH5UETDClh7"
      },
      "source": [
        "##  Exploring the Data\n",
        "\n",
        "Let's take some time to explore the data a bit. First, we look at the types and shapes of the data to see what is available. "
      ]
    },
    {
      "cell_type": "code",
      "metadata": {
        "id": "vTAU1OWiClh7",
        "outputId": "c6e7f454-0574-43ed-c93d-8e85993b55a3",
        "colab": {
          "base_uri": "https://localhost:8080/"
        }
      },
      "source": [
        "\n",
        "req_cols = df.columns.tolist()\n",
        "req_cols.remove(\"medianHouseValue\")\n",
        "df = df[req_cols]\n",
        "df.dtypes"
      ],
      "execution_count": 3,
      "outputs": [
        {
          "output_type": "execute_result",
          "data": {
            "text/plain": [
              "lat              float64\n",
              "long             float64\n",
              "housingMedAge      int64\n",
              "totalRooms         int64\n",
              "totalBedrooms      int64\n",
              "population         int64\n",
              "households         int64\n",
              "medianIncome     float64\n",
              "dtype: object"
            ]
          },
          "metadata": {
            "tags": []
          },
          "execution_count": 3
        }
      ]
    },
    {
      "cell_type": "code",
      "metadata": {
        "id": "_w1ls_lhClh9",
        "outputId": "73b1684e-1f3e-4f48-e51e-3b4578a3a29b",
        "colab": {
          "base_uri": "https://localhost:8080/"
        }
      },
      "source": [
        "df[\"lat\"].describe()"
      ],
      "execution_count": 4,
      "outputs": [
        {
          "output_type": "execute_result",
          "data": {
            "text/plain": [
              "count    500.000000\n",
              "mean    -119.538660\n",
              "std        2.032065\n",
              "min     -124.300000\n",
              "25%     -121.830000\n",
              "50%     -118.440000\n",
              "75%     -118.027500\n",
              "max     -115.370000\n",
              "Name: lat, dtype: float64"
            ]
          },
          "metadata": {
            "tags": []
          },
          "execution_count": 4
        }
      ]
    },
    {
      "cell_type": "markdown",
      "metadata": {
        "id": "pGH5oTjRClh_"
      },
      "source": [
        "When we plot the histogram of the lat variable, we see two populations (see below):\n",
        "1. A group with lat values less than -119\n",
        "2. A group with lat values greater than -119 "
      ]
    },
    {
      "cell_type": "code",
      "metadata": {
        "id": "8QtrKNcvClh_",
        "outputId": "4c5101d8-6c20-45a7-fbe5-cf99b30a52e0",
        "colab": {
          "base_uri": "https://localhost:8080/",
          "height": 282
        }
      },
      "source": [
        "\n",
        "import matplotlib.pyplot as plt\n",
        "%matplotlib inline  \n",
        "df[\"lat\"].hist()"
      ],
      "execution_count": 5,
      "outputs": [
        {
          "output_type": "execute_result",
          "data": {
            "text/plain": [
              "<matplotlib.axes._subplots.AxesSubplot at 0x7f29d102c748>"
            ]
          },
          "metadata": {
            "tags": []
          },
          "execution_count": 5
        },
        {
          "output_type": "display_data",
          "data": {
            "image/png": "[encoded data removed]",
            "text/plain": [
              "<Figure size 432x288 with 1 Axes>"
            ]
          },
          "metadata": {
            "tags": [],
            "needs_background": "light"
          }
        }
      ]
    },
    {
      "cell_type": "markdown",
      "metadata": {
        "id": "Uue5I2SjCliB"
      },
      "source": [
        "Let’s pretend that the current batch of data used to develop our regression model is the first one, the group with lat values less than -119. By not selecting any houses with lat values greater than -119, we have introduced a sampling error. When selecting data for model development, you would want to use the entire range of lat values. Our second group consists of houses with lat values greater than -119."
      ]
    },
    {
      "cell_type": "code",
      "metadata": {
        "id": "B-a6OJk4CliD"
      },
      "source": [
        "df1 = df.query(\"lat <= -119\")\n",
        "df2 = df.query(\"lat > -119\")"
      ],
      "execution_count": 6,
      "outputs": []
    },
    {
      "cell_type": "markdown",
      "metadata": {
        "id": "ZczN55T-CliF"
      },
      "source": [
        "Can we discriminate between the two? \n",
        "\n",
        "Let’s develop a classifier and see if we can. \n",
        "\n",
        "## Using the dataset shift API\n",
        "Here we use a [random forest classifier](https://en.wikipedia.org/wiki/Random_forest) and our Dataset Shift Detector to test our data and then print the returned score value. "
      ]
    },
    {
      "cell_type": "code",
      "metadata": {
        "id": "YpQS5vO5CliF",
        "outputId": "989acd9f-95f1-4750-f89f-6d2e7e71455c",
        "colab": {
          "base_uri": "https://localhost:8080/"
        }
      },
      "source": [
        "from arangopipe.arangopipe_analytics.rf_dataset_shift_detector import RF_DatasetShiftDetector\n",
        "\n",
        "rfd = RF_DatasetShiftDetector()\n",
        "score = rfd.detect_dataset_shift(df1, df2)\n",
        "print (\"Detaset shift score : %2.2f\" % (score))"
      ],
      "execution_count": 7,
      "outputs": [
        {
          "output_type": "stream",
          "text": [
            "Detaset shift score : 1.00\n"
          ],
          "name": "stdout"
        }
      ]
    },
    {
      "cell_type": "markdown",
      "metadata": {
        "id": "AOPoWcvFCliH"
      },
      "source": [
        "## Interpretation of the score reported by the shift detector\n",
        "The API uses a classifier to discriminate between the datasets provided to it. The score reported by the API is the accuracy of the classifier to discriminate between the datasets. Values close to  0.5  indicate that the classifier is not able to discriminate between the two datasets. This could be interpreted as a situation where no discernable shift has occurred in the data since the last model deployment. Values close to 1 indicate that the dataset shift is detectable, and we may need to revisit modeling. \n",
        "\n",
        "How the dataset shift affects the performance of the deployed model is problem-dependent. So we must assess the score in the context of a particular application. Usually, we perform experiments to determine a threshold value of the dataset shift score; the score represents an acceptable level of drift.\n",
        "\n",
        "## Conclusion\n",
        "This post introduced covariate shifts in datasets and provided an example of how easy it is to test this with ArangoML’s built-in API. The [Introduction to ArangoML series](https://www.arangodb.com/tag/arangoml/) will continue, so be sure to sign up for our newsletter to be notified of the next release!\n",
        "\n",
        "You can also join us on the [ArangoML Slack channel](https://arangodb-community.slack.com/archives/CN9LVJ24S) if you have any questions or comments.\n",
        "\n",
        "If you have something cool you are working on with ArangoML or ArangoDB in general we would love to learn about it. We now have an [interactive tutorials repository](https://github.com/arangodb/interactive_tutorials) where you can share your own notebook with the community, [check it out](https://github.com/arangodb/interactive_tutorials)!"
      ]
    }
  ]
}