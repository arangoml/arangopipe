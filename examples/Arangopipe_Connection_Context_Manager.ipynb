{
 "cells": [
  {
   "cell_type": "markdown",
   "metadata": {},
   "source": [
    "<a href=\"https://colab.research.google.com/github/arangoml/arangopipe/blob/oasis_reconnect/examples/Arangopipe_Connection_Context_Manager.ipynb\" target=\"_parent\"><img src=\"https://colab.research.google.com/assets/colab-badge.svg\" alt=\"Open In Colab\"/></a>"
   ]
  },
  {
   "cell_type": "code",
   "execution_count": null,
   "metadata": {},
   "outputs": [],
   "source": [
    "!pip install python-arango\n",
    "!pip install arangopipe==0.0.6.9.5"
   ]
  },
  {
   "cell_type": "code",
   "execution_count": null,
   "metadata": {},
   "outputs": [],
   "source": [
    "from arangopipe.arangopipe_storage.arangopipe_admin_api import ArangoPipeAdmin\n",
    "from arangopipe.arangopipe_storage.arangopipe_api import ArangoPipe\n",
    "from arangopipe.arangopipe_storage.arangopipe_config import ArangoPipeConfig\n",
    "from arangopipe.arangopipe_storage.managed_service_conn_parameters import ManagedServiceConnParam\n",
    "from arangopipe.arangopipe_storage.connection_manager import arango_pipe_connections"
   ]
  },
  {
   "cell_type": "code",
   "execution_count": null,
   "metadata": {},
   "outputs": [],
   "source": [
    "msc = ManagedServiceConnParam()\n",
    "conn_params = { msc.DB_SERVICE_HOST : \"arangoml.arangodb.cloud\", \\\n",
    "                msc.DB_SERVICE_END_POINT : \"createDB\",\\\n",
    "                msc.DB_SERVICE_NAME : \"createDB\",\\\n",
    "                msc.DB_SERVICE_PORT : 8529,\\\n",
    "                msc.DB_CONN_PROTOCOL : 'https'}\n",
    "        \n",
    "        \n",
    "with arango_pipe_connections(conn_params, False) as (ap_admin, ap):\n",
    "    proj_info = {\"name\": \"Python With Generator Admin test\"}\n",
    "    proj_reg = ap_admin.register_project(proj_info)\n",
    "    print(\"Done with test!\")\n",
    "        "
   ]
  }
 ],
 "metadata": {
  "language_info": {
   "name": "python",
   "pygments_lexer": "ipython3"
  }
 },
 "nbformat": 4,
 "nbformat_minor": 2
}
