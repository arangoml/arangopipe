{
 "cells": [
  {
   "cell_type": "markdown",
   "metadata": {},
   "source": [
    "[![Open In Colab](https://colab.research.google.com/assets/colab-badge.svg)](https://github.com/arangoml/arangopipe/blob/mlspec_ap_example/examples/MLSpec_AP_Example.ipynb)]\n"
   ]
  },
  {
   "cell_type": "code",
   "execution_count": null,
   "metadata": {},
   "outputs": [],
   "source": [
    "!pip install python-arango\n",
    "!pip install arangopipe==0.0.6.9.3\n",
    "!pip install pandas PyYAML==5.1.1 sklearn2\n",
    "!pip install jsonpickle\n",
    "!git clone -b master https://github.com/mlspec/mlspec-lib.git\n",
    "import os\n",
    "os.chdir('mlspec-lib/')\n",
    "!pip install -r requirements.txt"
   ]
  },
  {
   "cell_type": "code",
   "execution_count": null,
   "metadata": {},
   "outputs": [],
   "source": [
    "import sys\n",
    "sys.path.append('..')\n",
    "\n",
    "import yaml\n",
    "\n",
    "from mlspeclib.mlobject import MLObject\n",
    "from mlspeclib.mlschemaenums import MLSchemaTypes\n",
    "from mlspeclib.mlschema import MLSchema\n",
    "import os\n",
    "import uuid\n",
    "import datetime\n",
    "from pathlib import Path"
   ]
  },
  {
   "cell_type": "code",
   "execution_count": null,
   "metadata": {},
   "outputs": [],
   "source": [
    "from arangopipe.arangopipe_storage.arangopipe_api import ArangoPipe\n",
    "from arangopipe.arangopipe_storage.arangopipe_admin_api import ArangoPipeAdmin\n",
    "from arangopipe.arangopipe_storage.arangopipe_config import ArangoPipeConfig\n",
    "from arangopipe.arangopipe_storage.managed_service_conn_parameters import ManagedServiceConnParam\n",
    "mdb_config = ArangoPipeConfig()\n",
    "msc = ManagedServiceConnParam()\n",
    "conn_params = { msc.DB_SERVICE_HOST : \"arangoml.arangodb.cloud\", \\\n",
    "                        msc.DB_SERVICE_END_POINT : \"createDB\",\\\n",
    "                        msc.DB_SERVICE_NAME : \"createDB\",\\\n",
    "                        msc.DB_SERVICE_PORT : 8529,\\\n",
    "                        msc.DB_CONN_PROTOCOL : 'https'}\n",
    "        \n",
    "mdb_config = mdb_config.create_connection_config(conn_params)\n",
    "admin = ArangoPipeAdmin(reuse_connection = False, config = mdb_config)\n",
    "ap_config = admin.get_config()\n",
    "ap = ArangoPipe(config = ap_config)\n",
    "proj_info = {\"name\": \"Housing_Price_Estimation_Project\"}\n",
    "proj_reg = admin.register_project(proj_info)"
   ]
  },
  {
   "cell_type": "code",
   "execution_count": null,
   "metadata": {},
   "outputs": [],
   "source": [
    "import pandas as pd\n",
    "data_url = \"https://raw.githubusercontent.com/arangoml/arangopipe/arangopipe_examples/examples/data/cal_housing.csv\"\n",
    "df = pd.read_csv(data_url, error_bad_lines=False)"
   ]
  },
  {
   "cell_type": "code",
   "execution_count": null,
   "metadata": {},
   "outputs": [],
   "source": [
    "run_id = uuid.uuid4()\n",
    "\n",
    "# Local directory for testing\n",
    "working_dir = Path('.') / 'tmp_dir' / str(run_id)\n",
    "working_dir.mkdir(parents=True, exist_ok=True)\n",
    "print (working_dir)"
   ]
  },
  {
   "cell_type": "code",
   "execution_count": null,
   "metadata": {},
   "outputs": [],
   "source": [
    "datapath_object = MLObject()\n",
    "datapath_object.set_type('0.0.1', MLSchemaTypes.DATAPATH)\n",
    "datapath_object.data_store = 'Git Repo for Arangopipe'\n",
    "datapath_object.storage_connection_type = 'CUSTOM'\n",
    "datapath_object.connection.endpoint = data_url\n",
    "datapath_object.run_id = str(run_id)\n",
    "datapath_object.step_id = str(uuid.uuid4())\n",
    "datapath_object.run_date = str(datetime.datetime.now())\n",
    "response, errors = datapath_object.save(working_dir)\n",
    "print(errors)"
   ]
  },
  {
   "cell_type": "code",
   "execution_count": null,
   "metadata": {},
   "outputs": [],
   "source": [
    "datapath_object.to_json()"
   ]
  },
  {
   "cell_type": "code",
   "execution_count": null,
   "metadata": {},
   "outputs": [],
   "source": [
    "df.head()"
   ]
  },
  {
   "cell_type": "code",
   "execution_count": null,
   "metadata": {},
   "outputs": [],
   "source": [
    "ds_info = {\"name\" : \"california-housing-dataset-ml-spec-mapped- \" + str(uuid.uuid4()),\\\n",
    "            \"description\": \"This dataset lists median house prices in Califoria. Various house features are provided\",\\\n",
    "           \"source\": \"UCI ML Repository\", 'ML_Spec_Representation':datapath_object.to_json() }\n",
    "ds_reg = ap.register_dataset(ds_info)"
   ]
  },
  {
   "cell_type": "code",
   "execution_count": null,
   "metadata": {},
   "outputs": [],
   "source": [
    "import numpy as np\n",
    "df[\"medianHouseValue\"] = df[\"medianHouseValue\"].apply(lambda x: np.log(x))\n",
    "featureset = df.dtypes.to_dict()\n",
    "featureset = {k:str(featureset[k]) for k in featureset}\n",
    "featureset[\"name\"] = \"log_transformed_median_house_value-\" + str(uuid.uuid4())\n"
   ]
  },
  {
   "cell_type": "code",
   "execution_count": null,
   "metadata": {},
   "outputs": [],
   "source": [
    "datapath_object = MLObject()\n",
    "datapath_object.set_type('0.0.1', MLSchemaTypes.DATAPATH)\n",
    "datapath_object.data_store = 'Featureset for California Housing with log transformed house values'\n",
    "datapath_object.storage_connection_type = 'CUSTOM'\n",
    "datapath_object.connection.endpoint = data_url\n",
    "datapath_object.run_id = str(run_id)\n",
    "datapath_object.step_id = str(uuid.uuid4())\n",
    "datapath_object.run_date = str(datetime.datetime.now())\n",
    "response, errors = datapath_object.save(working_dir)\n",
    "print(errors)"
   ]
  },
  {
   "cell_type": "code",
   "execution_count": null,
   "metadata": {},
   "outputs": [],
   "source": [
    "fs_reg = ap.register_featureset(featureset, ds_reg[\"_key\"]) # note that the dataset and featureset are linked here."
   ]
  },
  {
   "cell_type": "code",
   "execution_count": null,
   "metadata": {},
   "outputs": [],
   "source": [
    "from sklearn.model_selection import train_test_split\n",
    "preds = df.columns.to_list()\n",
    "preds.remove('medianHouseValue')\n",
    "X = df[preds].values\n",
    "Y = df['medianHouseValue'].values\n",
    "X_train, X_test, y_train, y_test = train_test_split(X, Y, test_size=0.33, random_state=42)"
   ]
  },
  {
   "cell_type": "code",
   "execution_count": null,
   "metadata": {},
   "outputs": [],
   "source": [
    "from sklearn import linear_model\n",
    "from sklearn.metrics import mean_squared_error\n",
    "clf = linear_model.Lasso(alpha=0.001)\n",
    "clf.fit(X_train, y_train)\n",
    "train_pred = clf.predict(X_train)\n",
    "test_pred = clf.predict(X_test)\n",
    "train_mse = mean_squared_error(train_pred, y_train)\n",
    "test_mse = mean_squared_error(test_pred, y_test)"
   ]
  },
  {
   "cell_type": "code",
   "execution_count": null,
   "metadata": {},
   "outputs": [],
   "source": [
    "import uuid\n",
    "import datetime\n",
    "import jsonpickle\n",
    "mp = clf.get_params()\n",
    "mp = jsonpickle.encode(mp)\n",
    "model_params = {'run_id': str(run_id), 'model_params': mp}"
   ]
  },
  {
   "cell_type": "code",
   "execution_count": null,
   "metadata": {},
   "outputs": [],
   "source": [
    "model_object = MLObject()\n",
    "model_object.set_type('0.0.1', MLSchemaTypes.MODEL)\n",
    "model_object.run_id = str(run_id)\n",
    "model_object.step_id = str(uuid.uuid4())\n",
    "model_object.run_date = str(datetime.datetime.now())\n",
    "model_object.created_by = str(uuid.uuid4())\n",
    "model_object.version = \"0.0.1\"\n",
    "model_object.time_created = str(datetime.datetime.now())\n",
    "model_object.description = \"Baseline model for House Price Regression\"\n",
    "model_object.name = \"California Housing Regression Model-\" + str(uuid.uuid4())\n",
    "model_object.references = mp\n",
    "response, errors = model_object.save(working_dir)\n",
    "print(errors)"
   ]
  },
  {
   "cell_type": "code",
   "execution_count": null,
   "metadata": {},
   "outputs": [],
   "source": [
    "metrics_object = MLObject()\n",
    "metrics_object.set_type('0.0.1', MLSchemaTypes.TRAIN_RESULTS)\n",
    "metrics_object.accuracy = train_mse\n",
    "metrics_object.global_step = 1\n",
    "metrics_object.loss = clf.dual_gap_\n",
    "metrics_object.run_id = str(run_id)\n",
    "metrics_object.step_id = str(uuid.uuid4())\n",
    "metrics_object.run_date = str(datetime.datetime.now())\n",
    "#metrics_object.training_execution_id = str(uuid.uuid4())\n",
    "response, errors = metrics_object.save(working_dir)\n",
    "print(errors)"
   ]
  },
  {
   "cell_type": "markdown",
   "metadata": {},
   "source": []
  },
  {
   "cell_type": "code",
   "execution_count": null,
   "metadata": {},
   "outputs": [],
   "source": [
    "model_info = {\"name\": \"Lasso Model for Housing Dataset\" + str(uuid.uuid4()),  \"task\": \"Regression\",\\\n",
    "              \"ML_Spec_Model_Representation\": model_object.to_json()}\n",
    "model_reg = ap.register_model(model_info, project = \"Housing_Price_Estimation_Project\")"
   ]
  },
  {
   "cell_type": "code",
   "execution_count": null,
   "metadata": {},
   "outputs": [],
   "source": [
    "model_perf = {'training_mse': train_mse, 'test_mse': test_mse,\\\n",
    "              'run_id': str(run_id), \"timestamp\": str(datetime.datetime.now()),\\\n",
    "              'ML_Spec_Metrics_Representation': metrics_object.to_json()}"
   ]
  },
  {
   "cell_type": "code",
   "execution_count": null,
   "metadata": {},
   "outputs": [],
   "source": [
    "\n",
    "\n",
    "# ruuid = str(uuid.uuid4().int)\n",
    "# model_perf = {'training_mse': train_mse, 'test_mse': test_mse, 'run_id': ruuid, \"timestamp\": str(datetime.datetime.now())}\n",
    "\n",
    "# mp = clf.get_params()\n",
    "# mp = jsonpickle.encode(mp)\n",
    "# model_params = {'run_id': ruuid, 'model_params': mp}\n",
    "\n",
    "run_info = {\"dataset\" : ds_reg[\"_key\"],\\\n",
    "                    \"featureset\": fs_reg[\"_key\"],\\\n",
    "                    \"run_id\": str(run_id),\\\n",
    "                    \"model\": model_reg[\"_key\"],\\\n",
    "                    \"model-params\": model_params,\\\n",
    "                    \"model-perf\": model_perf,\\\n",
    "                    \"tag\": \"Housing_Price_Estimation_Project\",\\\n",
    "                    \"project\": \"Housing_Price_Estimation_Project\"}\n",
    "ap.log_run(run_info)"
   ]
  }
 ],
 "metadata": {
  "language_info": {
   "name": "python",
   "pygments_lexer": "ipython3"
  }
 },
 "nbformat": 4,
 "nbformat_minor": 1
}
