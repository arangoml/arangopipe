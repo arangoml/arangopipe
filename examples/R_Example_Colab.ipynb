{
 "cells": [
  {
   "cell_type": "markdown",
   "metadata": {},
   "source": [
    "<a href=\"https://colab.research.google.com/github/arangoml/arangopipe/blob/master/examples/R_Example_Colab.ipynb\" target=\"_parent\"><img src=\"https://colab.research.google.com/assets/colab-badge.svg\" alt=\"Open In Colab\"/></a>"
   ]
  },
  {
   "cell_type": "markdown",
   "metadata": {
    "id": "mREPL7_NlfNC"
   },
   "source": [
    "## Overview"
   ]
  },
  {
   "cell_type": "markdown",
   "metadata": {
    "id": "W-UCoasplfNC"
   },
   "source": [
    "This notebook provides an overview of using Arangopipe with your R projects. In this notebook, a simple illustrative example of using the arangopipe package to store meta-data about model development activity done using R is provided. To run this notebook, first install the notebook extension to R with jupyter using:\n",
    "```conda install -c r r-irkernel```\n",
    "\n",
    "The cells below provide the step-by-step instructions to develop a regression model for the california housing dataset using R and then using Arangopipe to store the meta-data about the results. "
   ]
  },
  {
   "cell_type": "code",
   "execution_count": null,
   "metadata": {
    "colab": {
     "base_uri": "https://localhost:8080/"
    },
    "id": "ht6JRakLlfNC",
    "outputId": "fc3495ab-37f5-4e1e-92bc-0dafe5ea2da5"
   },
   "outputs": [],
   "source": [
    "# Install Required packages for reading the data file\n",
    "install.packages(\"readr\",repos = \"http://cran.rstudio.com/\")\n",
    "install.packages(\"RCurl\", repos = \"http://cran.rstudio.com/\")"
   ]
  },
  {
   "cell_type": "markdown",
   "metadata": {
    "id": "HDXdE-9AlfND"
   },
   "source": [
    "### load the library and read the data file"
   ]
  },
  {
   "cell_type": "code",
   "execution_count": null,
   "metadata": {
    "id": "qBQ3ZTQwlfND"
   },
   "outputs": [],
   "source": [
    "library(readr)\n",
    "library(RCurl)\n",
    "fp <- \"https://raw.githubusercontent.com/arangoml/arangopipe/master/arangopipe/tests/CItests/cal_housing.csv\"\n",
    "df <- read.csv(fp)"
   ]
  },
  {
   "cell_type": "markdown",
   "metadata": {
    "id": "KyNC2e3olfND"
   },
   "source": [
    "### List the data types"
   ]
  },
  {
   "cell_type": "code",
   "execution_count": null,
   "metadata": {
    "colab": {
     "base_uri": "https://localhost:8080/"
    },
    "id": "3OSx_my7lfND",
    "outputId": "20ef0e89-0523-4c9d-92ca-5a27927e6d10"
   },
   "outputs": [],
   "source": [
    "str(df)"
   ]
  },
  {
   "cell_type": "markdown",
   "metadata": {
    "id": "CZaoXP_ElfND"
   },
   "source": [
    "### Transform the response variable (don't run the next cell twice!)"
   ]
  },
  {
   "cell_type": "code",
   "execution_count": null,
   "metadata": {
    "id": "ukLohFrxlfND"
   },
   "outputs": [],
   "source": [
    "# don't run this cell twice, otherwise you will be applying the log transform multiple times.\n",
    "df$medianHouseValue = log(df$medianHouseValue)"
   ]
  },
  {
   "cell_type": "markdown",
   "metadata": {
    "id": "8bGWmc1nlfND"
   },
   "source": [
    "### Generate the test and train datasets"
   ]
  },
  {
   "cell_type": "code",
   "execution_count": null,
   "metadata": {
    "id": "n8jjn1YllfNE"
   },
   "outputs": [],
   "source": [
    "smp_size <- floor(0.667 * nrow(df))\n",
    "\n",
    "## set the seed to make your partition reproducible\n",
    "set.seed(123)\n",
    "train_ind <- sample(seq_len(nrow(df)), size = smp_size)\n",
    "\n",
    "df.train <- df[train_ind, ]\n",
    "df.test <- df[-train_ind, ]"
   ]
  },
  {
   "cell_type": "markdown",
   "metadata": {
    "id": "haflOymvlfNE"
   },
   "source": [
    "### Inspect the training dataset"
   ]
  },
  {
   "cell_type": "code",
   "execution_count": null,
   "metadata": {
    "colab": {
     "base_uri": "https://localhost:8080/",
     "height": 195
    },
    "id": "PC-DUUZ7lfNE",
    "outputId": "f82c9aad-93c4-4aa8-b9f5-52253002bd05"
   },
   "outputs": [],
   "source": [
    "head(df.train)"
   ]
  },
  {
   "cell_type": "markdown",
   "metadata": {
    "id": "cGlx-ObhlfNE"
   },
   "source": [
    "### Develop the linear model"
   ]
  },
  {
   "cell_type": "code",
   "execution_count": null,
   "metadata": {
    "id": "Fi0gqh9BlfNE"
   },
   "outputs": [],
   "source": [
    "lm.housing <- lm(medianHouseValue ~ ., data = df.train)"
   ]
  },
  {
   "cell_type": "markdown",
   "metadata": {
    "id": "DBJd8V4WlfNE"
   },
   "source": [
    "### Generate the test and training predictions"
   ]
  },
  {
   "cell_type": "code",
   "execution_count": null,
   "metadata": {
    "id": "D3-CDdh7lfNE"
   },
   "outputs": [],
   "source": [
    "trng.pred <- predict(lm.housing, df.train)\n",
    "test.pred <- predict(lm.housing, df.test)\n",
    "rmse.trng <- sqrt((sum(df.train$medianHouseValue - trng.pred)^2)/nrow(df.train))\n",
    "rmse.test <- sqrt((sum(df.test$medianHouseValue - test.pred)^2)/nrow(df.test))"
   ]
  },
  {
   "cell_type": "markdown",
   "metadata": {
    "id": "zB_5hd3IlfNE"
   },
   "source": [
    "### Summarize the model developed"
   ]
  },
  {
   "cell_type": "code",
   "execution_count": null,
   "metadata": {
    "colab": {
     "base_uri": "https://localhost:8080/",
     "height": 457
    },
    "id": "kY7AL0g-lfNE",
    "outputId": "1df7f91a-5f41-442e-d3fc-e8fb17832d6c"
   },
   "outputs": [],
   "source": [
    "summary(lm.housing)"
   ]
  },
  {
   "cell_type": "markdown",
   "metadata": {
    "id": "mfS_4PhilfNF"
   },
   "source": [
    "### Set up to save the model meta-data to Arangopipe by installing the reticulate library"
   ]
  },
  {
   "cell_type": "code",
   "execution_count": null,
   "metadata": {
    "colab": {
     "base_uri": "https://localhost:8080/"
    },
    "id": "7VPYF7kClfNF",
    "outputId": "4b2d841c-1e37-4547-c237-9dbf5318d2d7"
   },
   "outputs": [],
   "source": [
    "install.packages(\"reticulate\")\n"
   ]
  },
  {
   "cell_type": "code",
   "execution_count": null,
   "metadata": {
    "id": "6RNXLDRxnWvS"
   },
   "outputs": [],
   "source": [
    "library(\"reticulate\")\n",
    "miniconda_update(path = miniconda_path())\n"
   ]
  },
  {
   "cell_type": "markdown",
   "metadata": {
    "id": "PUEm6EjGlfNF"
   },
   "source": [
    "1. Load the library\n",
    "2. Set up a python environment for this project (mini-conda)\n",
    "3. Install Arangopipe and dependencies in the environment"
   ]
  },
  {
   "cell_type": "code",
   "execution_count": null,
   "metadata": {
    "colab": {
     "base_uri": "https://localhost:8080/",
     "height": 34
    },
    "id": "-T_fkm2XlfNF",
    "outputId": "1cc53eb9-6102-4386-a239-fb07bc868b11"
   },
   "outputs": [],
   "source": [
    "conda_create(\"r-reticulate\")\n",
    "py_install(env = \"r-reticulate\", packages = c(\"arangopipe==0.0.70.0.0\",\n",
    "                                              \"python-arango\",\"pandas\",\n",
    "                                              \"PyYAML==5.1.1\", \"sklearn2\",\n",
    "                                              \"yapf\", \"autopep8\"),pip = TRUE)"
   ]
  },
  {
   "cell_type": "code",
   "execution_count": null,
   "metadata": {
    "id": "6JOJjXwJqxlt"
   },
   "outputs": [],
   "source": [
    "system(\"git clone -b r_example_arangopipe https://github.com/arangoml/arangopipe.git\")\n",
    "#"
   ]
  },
  {
   "cell_type": "markdown",
   "metadata": {
    "id": "f4BhFNf6lfNF"
   },
   "source": [
    "### Use a python connector to set up an Arangopipe connection"
   ]
  },
  {
   "cell_type": "code",
   "execution_count": null,
   "metadata": {
    "id": "yryAXheMlfNF"
   },
   "outputs": [],
   "source": [
    "conn_params <-list()\n",
    "conn_params$DB_service_host <- \"arangoml.arangodb.cloud\"\n",
    "conn_params$DB_end_point <- \"createDB\"\n",
    "conn_params$DB_service_name <- \"createDB\"\n",
    "conn_params$DB_service_port <- '8529'\n",
    "conn_params$conn_protocol <- 'https'"
   ]
  },
  {
   "cell_type": "code",
   "execution_count": null,
   "metadata": {
    "colab": {
     "base_uri": "https://localhost:8080/",
     "height": 213
    },
    "id": "2cT0NsRBlfNF",
    "outputId": "8bcd2329-e6a9-4fc8-e9fb-1c5ade75c28f"
   },
   "outputs": [],
   "source": [
    "conn_params"
   ]
  },
  {
   "cell_type": "code",
   "execution_count": null,
   "metadata": {
    "id": "HI7OZKWFlfNF"
   },
   "outputs": [],
   "source": [
    "source_python('arangopipe/examples/arangopipe_conn.py', convert = TRUE)"
   ]
  },
  {
   "cell_type": "code",
   "execution_count": null,
   "metadata": {
    "id": "5D9hkQr2lfNF"
   },
   "outputs": [],
   "source": [
    "apcon <- conn_arangopipe(conn_params)"
   ]
  },
  {
   "cell_type": "code",
   "execution_count": null,
   "metadata": {
    "id": "BRWUiooIlfNF"
   },
   "outputs": [],
   "source": [
    "ap <- apcon$ap\n",
    "ap_admin <- apcon$ap_admin"
   ]
  },
  {
   "cell_type": "code",
   "execution_count": null,
   "metadata": {
    "id": "kL_5jnvulfNF"
   },
   "outputs": [],
   "source": [
    "proj_info <- list()\n",
    "proj_info$name <- \"R_Arangopipe_Connection_Test\"\n",
    "proj_reg <- ap_admin$register_project(proj_info)"
   ]
  },
  {
   "cell_type": "code",
   "execution_count": null,
   "metadata": {
    "colab": {
     "base_uri": "https://localhost:8080/",
     "height": 146
    },
    "id": "72iS9U4alfNF",
    "outputId": "21c60f27-94db-42c5-99fe-d018ef928ba7"
   },
   "outputs": [],
   "source": [
    "proj_reg"
   ]
  },
  {
   "cell_type": "markdown",
   "metadata": {
    "id": "mrkTLKSxlfNG"
   },
   "source": [
    "### Register the dataset"
   ]
  },
  {
   "cell_type": "code",
   "execution_count": null,
   "metadata": {
    "id": "RAldCde_lfNG"
   },
   "outputs": [],
   "source": [
    "ds_info <- list(\"name\" = paste(\"california-housing-dataset\", Sys.time(), sep = \"-\"),\n",
    "            \"description\" = \"This dataset lists median house prices in Califoria. Various house features are provided\",\n",
    "           \"source\" = \"UCI ML Repository\" )"
   ]
  },
  {
   "cell_type": "code",
   "execution_count": null,
   "metadata": {
    "id": "a2JlqrdzlfNG"
   },
   "outputs": [],
   "source": [
    "ds_reg <- ap$register_dataset(ds_info)"
   ]
  },
  {
   "cell_type": "code",
   "execution_count": null,
   "metadata": {
    "colab": {
     "base_uri": "https://localhost:8080/",
     "height": 146
    },
    "id": "opfPNY0vwdwd",
    "outputId": "86b7083c-e311-4987-ee66-99a245aab2a1"
   },
   "outputs": [],
   "source": [
    "ds_reg"
   ]
  },
  {
   "cell_type": "markdown",
   "metadata": {
    "id": "3WOE6687lfNG"
   },
   "source": [
    "### Generate the featureset meta-data "
   ]
  },
  {
   "cell_type": "code",
   "execution_count": null,
   "metadata": {
    "id": "VB0hCs_JlfNG"
   },
   "outputs": [],
   "source": [
    "f.info <- sapply(df, class)"
   ]
  },
  {
   "cell_type": "code",
   "execution_count": null,
   "metadata": {
    "id": "ZALsWPH6lfNG"
   },
   "outputs": [],
   "source": [
    "f.info[\"name\"] <- paste(\"logTransformedFeatureset\", Sys.time(),sep=\"-\")\n"
   ]
  },
  {
   "cell_type": "code",
   "execution_count": null,
   "metadata": {
    "id": "cshwPybHlfNG"
   },
   "outputs": [],
   "source": [
    "f.info <- as.list(f.info)"
   ]
  },
  {
   "cell_type": "markdown",
   "metadata": {
    "id": "MTomNkAZlfNG"
   },
   "source": [
    "### Register the featureset"
   ]
  },
  {
   "cell_type": "code",
   "execution_count": null,
   "metadata": {
    "id": "RiBeTc7QlfNG"
   },
   "outputs": [],
   "source": [
    "fs_reg <- ap$register_featureset(f.info, ds_reg$`_key`)"
   ]
  },
  {
   "cell_type": "markdown",
   "metadata": {
    "id": "CvDwBbg9lfNG"
   },
   "source": [
    "### Generate the model meta-data"
   ]
  },
  {
   "cell_type": "code",
   "execution_count": null,
   "metadata": {
    "id": "Q9OhS5xolfNG"
   },
   "outputs": [],
   "source": [
    "model_info <- list()\n",
    "model_info[\"name\"] <- paste(\"R_Linear_Regression_Model_Housing_Data\", Sys.time(),sep=\"-\")\n"
   ]
  },
  {
   "cell_type": "markdown",
   "metadata": {
    "id": "jiZGh0YmlfNG"
   },
   "source": [
    "### Register the model meta-data"
   ]
  },
  {
   "cell_type": "code",
   "execution_count": null,
   "metadata": {
    "id": "-pkLc4pBlfNG"
   },
   "outputs": [],
   "source": [
    "model_reg <- ap$register_model(model_info, project = \"R_Arangopipe_Connection_Test\")"
   ]
  },
  {
   "cell_type": "markdown",
   "metadata": {
    "id": "XjxIzp0xlfNG"
   },
   "source": [
    "### Set up the data structures to capture modeling meta-data summary"
   ]
  },
  {
   "cell_type": "code",
   "execution_count": null,
   "metadata": {
    "id": "Gv9_vuwSlfNG"
   },
   "outputs": [],
   "source": [
    "run_info = list()"
   ]
  },
  {
   "cell_type": "code",
   "execution_count": null,
   "metadata": {
    "id": "BiarvY8alfNG"
   },
   "outputs": [],
   "source": [
    "b1 = ISOdate(2020,11,13)\n",
    "b2 = Sys.time()\n",
    "uuid <- as.character(as.integer(difftime(b2,b1,units='mins')))\n",
    "run_info[\"run_id\"] <- uuid"
   ]
  },
  {
   "cell_type": "code",
   "execution_count": null,
   "metadata": {
    "id": "ayr0sNHClfNG"
   },
   "outputs": [],
   "source": [
    "model.params.data = list()\n",
    "model.params.data[\"name\"] = \"Linear_Model\"\n",
    "model.params.data[\"Intercept\"] = \"True\"\n",
    "\n",
    "model.params = list()\n",
    "model.params$`run_id` = uuid\n",
    "model.params$`model_params` = model.params.data"
   ]
  },
  {
   "cell_type": "code",
   "execution_count": null,
   "metadata": {
    "id": "fM0xSRKBlfNG"
   },
   "outputs": [],
   "source": [
    "ms <- summary(lm.housing)\n",
    "model.perf.summary <- list()\n",
    "model.perf.summary[\"run_id\"] = uuid\n",
    "model.perf.summary[\"r.squared\"] = ms$r.squared\n",
    "model.perf.summary[\"adj.r.squared\"] = ms$adj.r.squared\n",
    "model.perf.summary[\"timestamp\"] = Sys.time()"
   ]
  },
  {
   "cell_type": "code",
   "execution_count": null,
   "metadata": {
    "colab": {
     "base_uri": "https://localhost:8080/",
     "height": 179
    },
    "id": "JbyUL9BXlfNG",
    "outputId": "a2fd8c00-ba3b-4b13-8d3f-e4049ddb30c1"
   },
   "outputs": [],
   "source": [
    "model.perf.summary"
   ]
  },
  {
   "cell_type": "code",
   "execution_count": null,
   "metadata": {
    "id": "GWcvNDxnlfNG"
   },
   "outputs": [],
   "source": [
    "run_info[\"dataset\"] = ds_reg$`_key`\n",
    "run_info[\"featureset\"] = fs_reg$`_key`\n",
    "run_info[\"model\"] = model_reg$`_key`\n",
    "run_info$`model-params` = model.params\n",
    "run_info$`model-perf` =  model.perf.summary\n",
    "run_info[\"tag\"] = \"R_Arangopipe_Connection_Test\"\n",
    "run_info[\"project\"] = \"R_Arangopipe_Connection_Test\""
   ]
  },
  {
   "cell_type": "markdown",
   "metadata": {
    "id": "iXSVXgktlfNG"
   },
   "source": [
    "### Log the model meta-data"
   ]
  },
  {
   "cell_type": "code",
   "execution_count": null,
   "metadata": {
    "id": "GlKdjQIVlfNG"
   },
   "outputs": [],
   "source": [
    "ri <- ap$log_run(run_info)"
   ]
  },
  {
   "cell_type": "markdown",
   "metadata": {
    "id": "fwYH8Q9_lfNG"
   },
   "source": [
    "### We are done!  You can set up your R projects to use Arangopipe in a similar manner."
   ]
  }
 ],
 "metadata": {
  "colab": {
   "collapsed_sections": [
    "DBJd8V4WlfNE",
    "zB_5hd3IlfNE"
   ],
   "name": "R_Example_Colab.ipynb",
   "provenance": []
  },
  "kernelspec": {
   "display_name": "R",
   "language": "R",
   "name": "ir"
  },
  "language_info": {
   "codemirror_mode": "r",
   "file_extension": ".r",
   "mimetype": "text/x-r-source",
   "name": "R",
   "pygments_lexer": "r",
   "version": "3.6.1"
  }
 },
 "nbformat": 4,
 "nbformat_minor": 1
}
