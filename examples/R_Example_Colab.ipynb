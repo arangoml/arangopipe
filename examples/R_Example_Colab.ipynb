{
 "cells": [
  {
   "cell_type": "markdown",
   "metadata": {},
   "source": [
    "<a href=\"https://colab.research.google.com/github/arangoml/arangopipe/blob/master/examples/R_Example_Colab.ipynb\" target=\"_parent\"><img src=\"https://colab.research.google.com/assets/colab-badge.svg\" alt=\"Open In Colab\"/></a>"
   ]
  },
  {
   "cell_type": "markdown",
   "metadata": {
    "id": "mREPL7_NlfNC"
   },
   "source": [
    "## Overview"
   ]
  },
  {
   "cell_type": "markdown",
   "metadata": {
    "id": "W-UCoasplfNC"
   },
   "source": [
    "This notebook provides an overview of using Arangopipe with your R projects. In this notebook, a simple illustrative example of using the arangopipe package to store meta-data about model development activity done using R is provided. To run this notebook, first install the notebook extension to R with jupyter using:\n",
    "```conda install -c r r-irkernel```\n",
    "\n",
    "The cells below provide the step-by-step instructions to develop a regression model for the california housing dataset using R and then using Arangopipe to store the meta-data about the results. "
   ]
  },
  {
   "cell_type": "code",
   "execution_count": 1,
   "metadata": {
    "colab": {
     "base_uri": "https://localhost:8080/"
    },
    "id": "ht6JRakLlfNC",
    "outputId": "fc3495ab-37f5-4e1e-92bc-0dafe5ea2da5"
   },
   "outputs": [
    {
     "name": "stderr",
     "output_type": "stream",
     "text": [
      "Installing package into ‘/usr/local/lib/R/site-library’\n",
      "(as ‘lib’ is unspecified)\n",
      "\n",
      "Installing package into ‘/usr/local/lib/R/site-library’\n",
      "(as ‘lib’ is unspecified)\n",
      "\n"
     ]
    }
   ],
   "source": [
    "# Install Required packages for reading the data file\n",
    "install.packages(\"readr\",repos = \"http://cran.rstudio.com/\")\n",
    "install.packages(\"RCurl\", repos = \"http://cran.rstudio.com/\")"
   ]
  },
  {
   "cell_type": "markdown",
   "metadata": {
    "id": "HDXdE-9AlfND"
   },
   "source": [
    "### load the library and read the data file"
   ]
  },
  {
   "cell_type": "code",
   "execution_count": 2,
   "metadata": {
    "id": "qBQ3ZTQwlfND"
   },
   "outputs": [],
   "source": [
    "library(readr)\n",
    "library(RCurl)\n",
    "fp <- \"https://raw.githubusercontent.com/arangoml/arangopipe/master/arangopipe/tests/CItests/cal_housing.csv\"\n",
    "df <- read.csv(fp)"
   ]
  },
  {
   "cell_type": "markdown",
   "metadata": {
    "id": "KyNC2e3olfND"
   },
   "source": [
    "### List the data types"
   ]
  },
  {
   "cell_type": "code",
   "execution_count": 3,
   "metadata": {
    "colab": {
     "base_uri": "https://localhost:8080/"
    },
    "id": "3OSx_my7lfND",
    "outputId": "20ef0e89-0523-4c9d-92ca-5a27927e6d10"
   },
   "outputs": [
    {
     "name": "stdout",
     "output_type": "stream",
     "text": [
      "'data.frame':\t20639 obs. of  9 variables:\n",
      " $ lat             : num  -122 -122 -122 -122 -122 ...\n",
      " $ long            : num  37.9 37.9 37.9 37.9 37.9 ...\n",
      " $ housingMedAge   : int  21 52 52 52 52 52 52 42 52 52 ...\n",
      " $ totalRooms      : int  7099 1467 1274 1627 919 2535 3104 2555 3549 2202 ...\n",
      " $ totalBedrooms   : int  1106 190 235 280 213 489 687 665 707 434 ...\n",
      " $ population      : int  2401 496 558 565 413 1094 1157 1206 1551 910 ...\n",
      " $ households      : int  1138 177 219 259 193 514 647 595 714 402 ...\n",
      " $ medianIncome    : num  8.3 7.26 5.64 3.85 4.04 ...\n",
      " $ medianHouseValue: num  358500 352100 341300 342200 269700 ...\n"
     ]
    }
   ],
   "source": [
    "str(df)"
   ]
  },
  {
   "cell_type": "markdown",
   "metadata": {
    "id": "CZaoXP_ElfND"
   },
   "source": [
    "### Transform the response variable (don't run the next cell twice!)"
   ]
  },
  {
   "cell_type": "code",
   "execution_count": 4,
   "metadata": {
    "id": "ukLohFrxlfND"
   },
   "outputs": [],
   "source": [
    "# don't run this cell twice, otherwise you will be applying the log transform multiple times.\n",
    "df$medianHouseValue = log(df$medianHouseValue)"
   ]
  },
  {
   "cell_type": "markdown",
   "metadata": {
    "id": "8bGWmc1nlfND"
   },
   "source": [
    "### Generate the test and train datasets"
   ]
  },
  {
   "cell_type": "code",
   "execution_count": 5,
   "metadata": {
    "id": "n8jjn1YllfNE"
   },
   "outputs": [],
   "source": [
    "smp_size <- floor(0.667 * nrow(df))\n",
    "\n",
    "## set the seed to make your partition reproducible\n",
    "set.seed(123)\n",
    "train_ind <- sample(seq_len(nrow(df)), size = smp_size)\n",
    "\n",
    "df.train <- df[train_ind, ]\n",
    "df.test <- df[-train_ind, ]"
   ]
  },
  {
   "cell_type": "markdown",
   "metadata": {
    "id": "haflOymvlfNE"
   },
   "source": [
    "### Inspect the training dataset"
   ]
  },
  {
   "cell_type": "code",
   "execution_count": 6,
   "metadata": {
    "colab": {
     "base_uri": "https://localhost:8080/",
     "height": 195
    },
    "id": "PC-DUUZ7lfNE",
    "outputId": "f82c9aad-93c4-4aa8-b9f5-52253002bd05"
   },
   "outputs": [
    {
     "data": {
      "text/html": [
       "<table>\n",
       "<caption>A data.frame: 6 × 9</caption>\n",
       "<thead>\n",
       "\t<tr><th></th><th scope=col>lat</th><th scope=col>long</th><th scope=col>housingMedAge</th><th scope=col>totalRooms</th><th scope=col>totalBedrooms</th><th scope=col>population</th><th scope=col>households</th><th scope=col>medianIncome</th><th scope=col>medianHouseValue</th></tr>\n",
       "\t<tr><th></th><th scope=col>&lt;dbl&gt;</th><th scope=col>&lt;dbl&gt;</th><th scope=col>&lt;int&gt;</th><th scope=col>&lt;int&gt;</th><th scope=col>&lt;int&gt;</th><th scope=col>&lt;int&gt;</th><th scope=col>&lt;int&gt;</th><th scope=col>&lt;dbl&gt;</th><th scope=col>&lt;dbl&gt;</th></tr>\n",
       "</thead>\n",
       "<tbody>\n",
       "\t<tr><th scope=row>18847</th><td>-122.38</td><td>41.43</td><td>45</td><td>2245</td><td> 448</td><td>1155</td><td> 421</td><td>1.6509</td><td>10.74074</td></tr>\n",
       "\t<tr><th scope=row>18895</th><td>-122.24</td><td>38.12</td><td>39</td><td>2967</td><td> 500</td><td>1243</td><td> 523</td><td>4.2902</td><td>11.93426</td></tr>\n",
       "\t<tr><th scope=row>2986</th><td>-119.00</td><td>35.33</td><td>35</td><td> 991</td><td> 221</td><td> 620</td><td> 207</td><td>1.9417</td><td>10.89303</td></tr>\n",
       "\t<tr><th scope=row>1842</th><td>-122.29</td><td>37.91</td><td>40</td><td>2085</td><td> 329</td><td> 796</td><td> 339</td><td>5.5357</td><td>12.51979</td></tr>\n",
       "\t<tr><th scope=row>3371</th><td>-118.28</td><td>34.26</td><td>32</td><td>1079</td><td> 207</td><td> 486</td><td> 167</td><td>4.9833</td><td>12.26905</td></tr>\n",
       "\t<tr><th scope=row>11638</th><td>-118.06</td><td>33.83</td><td>22</td><td>5290</td><td>1054</td><td>2812</td><td>1021</td><td>4.5300</td><td>12.33006</td></tr>\n",
       "</tbody>\n",
       "</table>\n"
      ],
      "text/latex": [
       "A data.frame: 6 × 9\n",
       "\\begin{tabular}{r|lllllllll}\n",
       "  & lat & long & housingMedAge & totalRooms & totalBedrooms & population & households & medianIncome & medianHouseValue\\\\\n",
       "  & <dbl> & <dbl> & <int> & <int> & <int> & <int> & <int> & <dbl> & <dbl>\\\\\n",
       "\\hline\n",
       "\t18847 & -122.38 & 41.43 & 45 & 2245 &  448 & 1155 &  421 & 1.6509 & 10.74074\\\\\n",
       "\t18895 & -122.24 & 38.12 & 39 & 2967 &  500 & 1243 &  523 & 4.2902 & 11.93426\\\\\n",
       "\t2986 & -119.00 & 35.33 & 35 &  991 &  221 &  620 &  207 & 1.9417 & 10.89303\\\\\n",
       "\t1842 & -122.29 & 37.91 & 40 & 2085 &  329 &  796 &  339 & 5.5357 & 12.51979\\\\\n",
       "\t3371 & -118.28 & 34.26 & 32 & 1079 &  207 &  486 &  167 & 4.9833 & 12.26905\\\\\n",
       "\t11638 & -118.06 & 33.83 & 22 & 5290 & 1054 & 2812 & 1021 & 4.5300 & 12.33006\\\\\n",
       "\\end{tabular}\n"
      ],
      "text/markdown": [
       "\n",
       "A data.frame: 6 × 9\n",
       "\n",
       "| <!--/--> | lat &lt;dbl&gt; | long &lt;dbl&gt; | housingMedAge &lt;int&gt; | totalRooms &lt;int&gt; | totalBedrooms &lt;int&gt; | population &lt;int&gt; | households &lt;int&gt; | medianIncome &lt;dbl&gt; | medianHouseValue &lt;dbl&gt; |\n",
       "|---|---|---|---|---|---|---|---|---|---|\n",
       "| 18847 | -122.38 | 41.43 | 45 | 2245 |  448 | 1155 |  421 | 1.6509 | 10.74074 |\n",
       "| 18895 | -122.24 | 38.12 | 39 | 2967 |  500 | 1243 |  523 | 4.2902 | 11.93426 |\n",
       "| 2986 | -119.00 | 35.33 | 35 |  991 |  221 |  620 |  207 | 1.9417 | 10.89303 |\n",
       "| 1842 | -122.29 | 37.91 | 40 | 2085 |  329 |  796 |  339 | 5.5357 | 12.51979 |\n",
       "| 3371 | -118.28 | 34.26 | 32 | 1079 |  207 |  486 |  167 | 4.9833 | 12.26905 |\n",
       "| 11638 | -118.06 | 33.83 | 22 | 5290 | 1054 | 2812 | 1021 | 4.5300 | 12.33006 |\n",
       "\n"
      ],
      "text/plain": [
       "      lat     long  housingMedAge totalRooms totalBedrooms population\n",
       "18847 -122.38 41.43 45            2245        448          1155      \n",
       "18895 -122.24 38.12 39            2967        500          1243      \n",
       "2986  -119.00 35.33 35             991        221           620      \n",
       "1842  -122.29 37.91 40            2085        329           796      \n",
       "3371  -118.28 34.26 32            1079        207           486      \n",
       "11638 -118.06 33.83 22            5290       1054          2812      \n",
       "      households medianIncome medianHouseValue\n",
       "18847  421       1.6509       10.74074        \n",
       "18895  523       4.2902       11.93426        \n",
       "2986   207       1.9417       10.89303        \n",
       "1842   339       5.5357       12.51979        \n",
       "3371   167       4.9833       12.26905        \n",
       "11638 1021       4.5300       12.33006        "
      ]
     },
     "metadata": {
      "tags": []
     },
     "output_type": "display_data"
    }
   ],
   "source": [
    "head(df.train)"
   ]
  },
  {
   "cell_type": "markdown",
   "metadata": {
    "id": "cGlx-ObhlfNE"
   },
   "source": [
    "### Develop the linear model"
   ]
  },
  {
   "cell_type": "code",
   "execution_count": 7,
   "metadata": {
    "id": "Fi0gqh9BlfNE"
   },
   "outputs": [],
   "source": [
    "lm.housing <- lm(medianHouseValue ~ ., data = df.train)"
   ]
  },
  {
   "cell_type": "markdown",
   "metadata": {
    "id": "DBJd8V4WlfNE"
   },
   "source": [
    "### Generate the test and training predictions"
   ]
  },
  {
   "cell_type": "code",
   "execution_count": 8,
   "metadata": {
    "id": "D3-CDdh7lfNE"
   },
   "outputs": [],
   "source": [
    "trng.pred <- predict(lm.housing, df.train)\n",
    "test.pred <- predict(lm.housing, df.test)\n",
    "rmse.trng <- sqrt((sum(df.train$medianHouseValue - trng.pred)^2)/nrow(df.train))\n",
    "rmse.test <- sqrt((sum(df.test$medianHouseValue - test.pred)^2)/nrow(df.test))"
   ]
  },
  {
   "cell_type": "markdown",
   "metadata": {
    "id": "zB_5hd3IlfNE"
   },
   "source": [
    "### Summarize the model developed"
   ]
  },
  {
   "cell_type": "code",
   "execution_count": 9,
   "metadata": {
    "colab": {
     "base_uri": "https://localhost:8080/",
     "height": 457
    },
    "id": "kY7AL0g-lfNE",
    "outputId": "1df7f91a-5f41-442e-d3fc-e8fb17832d6c"
   },
   "outputs": [
    {
     "data": {
      "text/plain": [
       "\n",
       "Call:\n",
       "lm(formula = medianHouseValue ~ ., data = df.train)\n",
       "\n",
       "Residuals:\n",
       "    Min      1Q  Median      3Q     Max \n",
       "-2.4299 -0.2056  0.0019  0.1950  3.2533 \n",
       "\n",
       "Coefficients:\n",
       "                Estimate Std. Error t value Pr(>|t|)    \n",
       "(Intercept)   -1.217e+01  3.758e-01 -32.378  < 2e-16 ***\n",
       "lat           -2.798e-01  4.288e-03 -65.265  < 2e-16 ***\n",
       "long          -2.817e-01  4.050e-03 -69.551  < 2e-16 ***\n",
       "housingMedAge  3.071e-03  2.589e-04  11.865  < 2e-16 ***\n",
       "totalRooms    -3.356e-05  4.708e-06  -7.128 1.07e-12 ***\n",
       "totalBedrooms  4.604e-04  4.091e-05  11.253  < 2e-16 ***\n",
       "population    -1.624e-04  6.240e-06 -26.031  < 2e-16 ***\n",
       "households     2.473e-04  4.416e-05   5.602 2.16e-08 ***\n",
       "medianIncome   1.780e-01  2.004e-03  88.799  < 2e-16 ***\n",
       "---\n",
       "Signif. codes:  0 ‘***’ 0.001 ‘**’ 0.01 ‘*’ 0.05 ‘.’ 0.1 ‘ ’ 1\n",
       "\n",
       "Residual standard error: 0.3399 on 13757 degrees of freedom\n",
       "Multiple R-squared:  0.6421,\tAdjusted R-squared:  0.6419 \n",
       "F-statistic:  3086 on 8 and 13757 DF,  p-value: < 2.2e-16\n"
      ]
     },
     "metadata": {
      "tags": []
     },
     "output_type": "display_data"
    }
   ],
   "source": [
    "summary(lm.housing)"
   ]
  },
  {
   "cell_type": "markdown",
   "metadata": {
    "id": "mfS_4PhilfNF"
   },
   "source": [
    "### Set up to save the model meta-data to Arangopipe by installing the reticulate library"
   ]
  },
  {
   "cell_type": "code",
   "execution_count": 10,
   "metadata": {
    "colab": {
     "base_uri": "https://localhost:8080/"
    },
    "id": "7VPYF7kClfNF",
    "outputId": "4b2d841c-1e37-4547-c237-9dbf5318d2d7"
   },
   "outputs": [
    {
     "name": "stderr",
     "output_type": "stream",
     "text": [
      "Installing package into ‘/usr/local/lib/R/site-library’\n",
      "(as ‘lib’ is unspecified)\n",
      "\n"
     ]
    }
   ],
   "source": [
    "install.packages(\"reticulate\")\n"
   ]
  },
  {
   "cell_type": "code",
   "execution_count": 11,
   "metadata": {
    "id": "6RNXLDRxnWvS"
   },
   "outputs": [],
   "source": [
    "library(\"reticulate\")\n",
    "miniconda_update(path = miniconda_path())\n"
   ]
  },
  {
   "cell_type": "markdown",
   "metadata": {
    "id": "PUEm6EjGlfNF"
   },
   "source": [
    "1. Load the library\n",
    "2. Set up a python environment for this project (mini-conda)\n",
    "3. Install Arangopipe and dependencies in the environment"
   ]
  },
  {
   "cell_type": "code",
   "execution_count": 12,
   "metadata": {
    "colab": {
     "base_uri": "https://localhost:8080/",
     "height": 34
    },
    "id": "-T_fkm2XlfNF",
    "outputId": "1cc53eb9-6102-4386-a239-fb07bc868b11"
   },
   "outputs": [
    {
     "data": {
      "text/html": [
       "'/root/.local/share/r-miniconda/envs/r-reticulate/bin/python'"
      ],
      "text/latex": [
       "'/root/.local/share/r-miniconda/envs/r-reticulate/bin/python'"
      ],
      "text/markdown": [
       "'/root/.local/share/r-miniconda/envs/r-reticulate/bin/python'"
      ],
      "text/plain": [
       "[1] \"/root/.local/share/r-miniconda/envs/r-reticulate/bin/python\""
      ]
     },
     "metadata": {
      "tags": []
     },
     "output_type": "display_data"
    }
   ],
   "source": [
    "conda_create(\"r-reticulate\")\n",
    "py_install(env = \"r-reticulate\", packages = c(\"arangopipe==0.0.6.9.5\",\n",
    "                                              \"python-arango\",\"pandas\",\n",
    "                                              \"PyYAML==5.1.1\", \"sklearn2\",\n",
    "                                              \"yapf\", \"autopep8\"),pip = TRUE)"
   ]
  },
  {
   "cell_type": "code",
   "execution_count": 13,
   "metadata": {
    "id": "6JOJjXwJqxlt"
   },
   "outputs": [],
   "source": [
    "system(\"git clone -b r_example_arangopipe https://github.com/arangoml/arangopipe.git\")\n",
    "#"
   ]
  },
  {
   "cell_type": "markdown",
   "metadata": {
    "id": "f4BhFNf6lfNF"
   },
   "source": [
    "### Use a python connector to set up an Arangopipe connection"
   ]
  },
  {
   "cell_type": "code",
   "execution_count": 14,
   "metadata": {
    "id": "yryAXheMlfNF"
   },
   "outputs": [],
   "source": [
    "conn_params <-list()\n",
    "conn_params$DB_service_host <- \"arangoml.arangodb.cloud\"\n",
    "conn_params$DB_end_point <- \"createDB\"\n",
    "conn_params$DB_service_name <- \"createDB\"\n",
    "conn_params$DB_service_port <- '8529'\n",
    "conn_params$conn_protocol <- 'https'"
   ]
  },
  {
   "cell_type": "code",
   "execution_count": 15,
   "metadata": {
    "colab": {
     "base_uri": "https://localhost:8080/",
     "height": 213
    },
    "id": "2cT0NsRBlfNF",
    "outputId": "8bcd2329-e6a9-4fc8-e9fb-1c5ade75c28f"
   },
   "outputs": [
    {
     "data": {
      "text/html": [
       "<dl>\n",
       "\t<dt>$DB_service_host</dt>\n",
       "\t\t<dd>'arangoml.arangodb.cloud'</dd>\n",
       "\t<dt>$DB_end_point</dt>\n",
       "\t\t<dd>'createDB'</dd>\n",
       "\t<dt>$DB_service_name</dt>\n",
       "\t\t<dd>'createDB'</dd>\n",
       "\t<dt>$DB_service_port</dt>\n",
       "\t\t<dd>'8529'</dd>\n",
       "\t<dt>$conn_protocol</dt>\n",
       "\t\t<dd>'https'</dd>\n",
       "</dl>\n"
      ],
      "text/latex": [
       "\\begin{description}\n",
       "\\item[\\$DB\\_service\\_host] 'arangoml.arangodb.cloud'\n",
       "\\item[\\$DB\\_end\\_point] 'createDB'\n",
       "\\item[\\$DB\\_service\\_name] 'createDB'\n",
       "\\item[\\$DB\\_service\\_port] '8529'\n",
       "\\item[\\$conn\\_protocol] 'https'\n",
       "\\end{description}\n"
      ],
      "text/markdown": [
       "$DB_service_host\n",
       ":   'arangoml.arangodb.cloud'\n",
       "$DB_end_point\n",
       ":   'createDB'\n",
       "$DB_service_name\n",
       ":   'createDB'\n",
       "$DB_service_port\n",
       ":   '8529'\n",
       "$conn_protocol\n",
       ":   'https'\n",
       "\n",
       "\n"
      ],
      "text/plain": [
       "$DB_service_host\n",
       "[1] \"arangoml.arangodb.cloud\"\n",
       "\n",
       "$DB_end_point\n",
       "[1] \"createDB\"\n",
       "\n",
       "$DB_service_name\n",
       "[1] \"createDB\"\n",
       "\n",
       "$DB_service_port\n",
       "[1] \"8529\"\n",
       "\n",
       "$conn_protocol\n",
       "[1] \"https\"\n"
      ]
     },
     "metadata": {
      "tags": []
     },
     "output_type": "display_data"
    }
   ],
   "source": [
    "conn_params"
   ]
  },
  {
   "cell_type": "code",
   "execution_count": 16,
   "metadata": {
    "id": "HI7OZKWFlfNF"
   },
   "outputs": [],
   "source": [
    "source_python('arangopipe/examples/arangopipe_conn.py', convert = TRUE)"
   ]
  },
  {
   "cell_type": "code",
   "execution_count": 17,
   "metadata": {
    "id": "5D9hkQr2lfNF"
   },
   "outputs": [],
   "source": [
    "apcon <- conn_arangopipe(conn_params)"
   ]
  },
  {
   "cell_type": "code",
   "execution_count": 18,
   "metadata": {
    "id": "BRWUiooIlfNF"
   },
   "outputs": [],
   "source": [
    "ap <- apcon$ap\n",
    "ap_admin <- apcon$ap_admin"
   ]
  },
  {
   "cell_type": "code",
   "execution_count": 19,
   "metadata": {
    "id": "kL_5jnvulfNF"
   },
   "outputs": [],
   "source": [
    "proj_info <- list()\n",
    "proj_info$name <- \"R_Arangopipe_Connection_Test\"\n",
    "proj_reg <- ap_admin$register_project(proj_info)"
   ]
  },
  {
   "cell_type": "code",
   "execution_count": 20,
   "metadata": {
    "colab": {
     "base_uri": "https://localhost:8080/",
     "height": 146
    },
    "id": "72iS9U4alfNF",
    "outputId": "21c60f27-94db-42c5-99fe-d018ef928ba7"
   },
   "outputs": [
    {
     "data": {
      "text/html": [
       "<dl>\n",
       "\t<dt>$`_id`</dt>\n",
       "\t\t<dd>'project/439804954'</dd>\n",
       "\t<dt>$`_key`</dt>\n",
       "\t\t<dd>'439804954'</dd>\n",
       "\t<dt>$`_rev`</dt>\n",
       "\t\t<dd>'_bb9Uy7a--C'</dd>\n",
       "</dl>\n"
      ],
      "text/latex": [
       "\\begin{description}\n",
       "\\item[\\$`\\_id`] 'project/439804954'\n",
       "\\item[\\$`\\_key`] '439804954'\n",
       "\\item[\\$`\\_rev`] '\\_bb9Uy7a--C'\n",
       "\\end{description}\n"
      ],
      "text/markdown": [
       "$`_id`\n",
       ":   'project/439804954'\n",
       "$`_key`\n",
       ":   '439804954'\n",
       "$`_rev`\n",
       ":   '_bb9Uy7a--C'\n",
       "\n",
       "\n"
      ],
      "text/plain": [
       "$`_id`\n",
       "[1] \"project/439804954\"\n",
       "\n",
       "$`_key`\n",
       "[1] \"439804954\"\n",
       "\n",
       "$`_rev`\n",
       "[1] \"_bb9Uy7a--C\"\n"
      ]
     },
     "metadata": {
      "tags": []
     },
     "output_type": "display_data"
    }
   ],
   "source": [
    "proj_reg"
   ]
  },
  {
   "cell_type": "code",
   "execution_count": 21,
   "metadata": {
    "id": "cf7tDOO8lfNG"
   },
   "outputs": [],
   "source": [
    "# source_python('arangopipe_conn.py', convert = TRUE)\n",
    "\n",
    "# ap <- conn_arangopipe()\n",
    "# ap$lookup_entity(\"Context_Manager_Test\", \"project\")"
   ]
  },
  {
   "cell_type": "markdown",
   "metadata": {
    "id": "mrkTLKSxlfNG"
   },
   "source": [
    "### Register the dataset"
   ]
  },
  {
   "cell_type": "code",
   "execution_count": 22,
   "metadata": {
    "id": "RAldCde_lfNG"
   },
   "outputs": [],
   "source": [
    "ds_info <- list(\"name\" = paste(\"california-housing-dataset\", Sys.time(), sep = \"-\"),\n",
    "            \"description\" = \"This dataset lists median house prices in Califoria. Various house features are provided\",\n",
    "           \"source\" = \"UCI ML Repository\" )"
   ]
  },
  {
   "cell_type": "code",
   "execution_count": 23,
   "metadata": {
    "id": "a2JlqrdzlfNG"
   },
   "outputs": [],
   "source": [
    "ds_reg <- ap$register_dataset(ds_info)"
   ]
  },
  {
   "cell_type": "code",
   "execution_count": 24,
   "metadata": {
    "colab": {
     "base_uri": "https://localhost:8080/",
     "height": 146
    },
    "id": "opfPNY0vwdwd",
    "outputId": "86b7083c-e311-4987-ee66-99a245aab2a1"
   },
   "outputs": [
    {
     "data": {
      "text/html": [
       "<dl>\n",
       "\t<dt>$`_id`</dt>\n",
       "\t\t<dd>'datasets/439804955'</dd>\n",
       "\t<dt>$`_key`</dt>\n",
       "\t\t<dd>'439804955'</dd>\n",
       "\t<dt>$`_rev`</dt>\n",
       "\t\t<dd>'_bb9UzPK--_'</dd>\n",
       "</dl>\n"
      ],
      "text/latex": [
       "\\begin{description}\n",
       "\\item[\\$`\\_id`] 'datasets/439804955'\n",
       "\\item[\\$`\\_key`] '439804955'\n",
       "\\item[\\$`\\_rev`] '\\_bb9UzPK--\\_'\n",
       "\\end{description}\n"
      ],
      "text/markdown": [
       "$`_id`\n",
       ":   'datasets/439804955'\n",
       "$`_key`\n",
       ":   '439804955'\n",
       "$`_rev`\n",
       ":   '_bb9UzPK--_'\n",
       "\n",
       "\n"
      ],
      "text/plain": [
       "$`_id`\n",
       "[1] \"datasets/439804955\"\n",
       "\n",
       "$`_key`\n",
       "[1] \"439804955\"\n",
       "\n",
       "$`_rev`\n",
       "[1] \"_bb9UzPK--_\"\n"
      ]
     },
     "metadata": {
      "tags": []
     },
     "output_type": "display_data"
    }
   ],
   "source": [
    "ds_reg"
   ]
  },
  {
   "cell_type": "markdown",
   "metadata": {
    "id": "3WOE6687lfNG"
   },
   "source": [
    "### Generate the featureset meta-data "
   ]
  },
  {
   "cell_type": "code",
   "execution_count": 25,
   "metadata": {
    "id": "VB0hCs_JlfNG"
   },
   "outputs": [],
   "source": [
    "f.info <- sapply(df, class)"
   ]
  },
  {
   "cell_type": "code",
   "execution_count": 26,
   "metadata": {
    "id": "ZALsWPH6lfNG"
   },
   "outputs": [],
   "source": [
    "f.info[\"name\"] <- paste(\"logTransformedFeatureset\", Sys.time(),sep=\"-\")\n"
   ]
  },
  {
   "cell_type": "code",
   "execution_count": 27,
   "metadata": {
    "id": "cshwPybHlfNG"
   },
   "outputs": [],
   "source": [
    "f.info <- as.list(f.info)"
   ]
  },
  {
   "cell_type": "markdown",
   "metadata": {
    "id": "MTomNkAZlfNG"
   },
   "source": [
    "### Register the featureset"
   ]
  },
  {
   "cell_type": "code",
   "execution_count": 28,
   "metadata": {
    "id": "RiBeTc7QlfNG"
   },
   "outputs": [],
   "source": [
    "fs_reg <- ap$register_featureset(f.info, ds_reg$`_key`)"
   ]
  },
  {
   "cell_type": "markdown",
   "metadata": {
    "id": "CvDwBbg9lfNG"
   },
   "source": [
    "### Generate the model meta-data"
   ]
  },
  {
   "cell_type": "code",
   "execution_count": 29,
   "metadata": {
    "id": "Q9OhS5xolfNG"
   },
   "outputs": [],
   "source": [
    "model_info <- list()\n",
    "model_info[\"name\"] <- paste(\"R_Linear_Regression_Model_Housing_Data\", Sys.time(),sep=\"-\")\n"
   ]
  },
  {
   "cell_type": "markdown",
   "metadata": {
    "id": "jiZGh0YmlfNG"
   },
   "source": [
    "### Register the model meta-data"
   ]
  },
  {
   "cell_type": "code",
   "execution_count": 30,
   "metadata": {
    "id": "-pkLc4pBlfNG"
   },
   "outputs": [],
   "source": [
    "model_reg <- ap$register_model(model_info, project = \"R_Arangopipe_Connection_Test\")"
   ]
  },
  {
   "cell_type": "markdown",
   "metadata": {
    "id": "XjxIzp0xlfNG"
   },
   "source": [
    "### Set up the data structures to capture modeling meta-data summary"
   ]
  },
  {
   "cell_type": "code",
   "execution_count": 31,
   "metadata": {
    "id": "Gv9_vuwSlfNG"
   },
   "outputs": [],
   "source": [
    "run_info = list()"
   ]
  },
  {
   "cell_type": "code",
   "execution_count": 32,
   "metadata": {
    "id": "BiarvY8alfNG"
   },
   "outputs": [],
   "source": [
    "b1 = ISOdate(2020,11,13)\n",
    "b2 = Sys.time()\n",
    "uuid <- as.character(as.integer(difftime(b2,b1,units='mins')))\n",
    "run_info[\"run_id\"] <- uuid"
   ]
  },
  {
   "cell_type": "code",
   "execution_count": 33,
   "metadata": {
    "id": "ayr0sNHClfNG"
   },
   "outputs": [],
   "source": [
    "model.params.data = list()\n",
    "model.params.data[\"name\"] = \"Linear_Model\"\n",
    "model.params.data[\"Intercept\"] = \"True\"\n",
    "\n",
    "model.params = list()\n",
    "model.params$`run_id` = uuid\n",
    "model.params$`model_params` = model.params.data"
   ]
  },
  {
   "cell_type": "code",
   "execution_count": 34,
   "metadata": {
    "id": "fM0xSRKBlfNG"
   },
   "outputs": [],
   "source": [
    "ms <- summary(lm.housing)\n",
    "model.perf.summary <- list()\n",
    "model.perf.summary[\"run_id\"] = uuid\n",
    "model.perf.summary[\"r.squared\"] = ms$r.squared\n",
    "model.perf.summary[\"adj.r.squared\"] = ms$adj.r.squared\n",
    "model.perf.summary[\"timestamp\"] = Sys.time()"
   ]
  },
  {
   "cell_type": "code",
   "execution_count": 35,
   "metadata": {
    "colab": {
     "base_uri": "https://localhost:8080/",
     "height": 179
    },
    "id": "JbyUL9BXlfNG",
    "outputId": "a2fd8c00-ba3b-4b13-8d3f-e4049ddb30c1"
   },
   "outputs": [
    {
     "data": {
      "text/html": [
       "<dl>\n",
       "\t<dt>$run_id</dt>\n",
       "\t\t<dd>'8490'</dd>\n",
       "\t<dt>$r.squared</dt>\n",
       "\t\t<dd>0.642137755604609</dd>\n",
       "\t<dt>$adj.r.squared</dt>\n",
       "\t\t<dd>0.641929650788504</dd>\n",
       "\t<dt>$timestamp</dt>\n",
       "\t\t<dd>1605778200.95564</dd>\n",
       "</dl>\n"
      ],
      "text/latex": [
       "\\begin{description}\n",
       "\\item[\\$run\\_id] '8490'\n",
       "\\item[\\$r.squared] 0.642137755604609\n",
       "\\item[\\$adj.r.squared] 0.641929650788504\n",
       "\\item[\\$timestamp] 1605778200.95564\n",
       "\\end{description}\n"
      ],
      "text/markdown": [
       "$run_id\n",
       ":   '8490'\n",
       "$r.squared\n",
       ":   0.642137755604609\n",
       "$adj.r.squared\n",
       ":   0.641929650788504\n",
       "$timestamp\n",
       ":   1605778200.95564\n",
       "\n",
       "\n"
      ],
      "text/plain": [
       "$run_id\n",
       "[1] \"8490\"\n",
       "\n",
       "$r.squared\n",
       "[1] 0.6421378\n",
       "\n",
       "$adj.r.squared\n",
       "[1] 0.6419297\n",
       "\n",
       "$timestamp\n",
       "[1] 1605778201\n"
      ]
     },
     "metadata": {
      "tags": []
     },
     "output_type": "display_data"
    }
   ],
   "source": [
    "model.perf.summary"
   ]
  },
  {
   "cell_type": "code",
   "execution_count": 36,
   "metadata": {
    "id": "GWcvNDxnlfNG"
   },
   "outputs": [],
   "source": [
    "run_info[\"dataset\"] = ds_reg$`_key`\n",
    "run_info[\"featureset\"] = fs_reg$`_key`\n",
    "run_info[\"model\"] = model_reg$`_key`\n",
    "run_info$`model-params` = model.params\n",
    "run_info$`model-perf` =  model.perf.summary\n",
    "run_info[\"tag\"] = \"R_Arangopipe_Connection_Test\"\n",
    "run_info[\"project\"] = \"R_Arangopipe_Connection_Test\""
   ]
  },
  {
   "cell_type": "markdown",
   "metadata": {
    "id": "iXSVXgktlfNG"
   },
   "source": [
    "### Log the model meta-data"
   ]
  },
  {
   "cell_type": "code",
   "execution_count": 37,
   "metadata": {
    "id": "GlKdjQIVlfNG"
   },
   "outputs": [],
   "source": [
    "ri <- ap$log_run(run_info)"
   ]
  },
  {
   "cell_type": "markdown",
   "metadata": {
    "id": "fwYH8Q9_lfNG"
   },
   "source": [
    "### We are done!  You can set up your R projects to use Arangopipe in a similar manner."
   ]
  }
 ],
 "metadata": {
  "colab": {
   "collapsed_sections": [
    "DBJd8V4WlfNE",
    "zB_5hd3IlfNE"
   ],
   "name": "R_Example_Colab.ipynb",
   "provenance": []
  },
  "kernelspec": {
   "display_name": "R",
   "language": "R",
   "name": "ir"
  },
  "language_info": {
   "codemirror_mode": "r",
   "file_extension": ".r",
   "mimetype": "text/x-r-source",
   "name": "R",
   "pygments_lexer": "r",
   "version": "3.6.1"
  }
 },
 "nbformat": 4,
 "nbformat_minor": 1
}
